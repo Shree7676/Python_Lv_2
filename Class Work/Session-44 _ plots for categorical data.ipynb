{
 "cells": [
  {
   "cell_type": "markdown",
   "metadata": {},
   "source": [
    "# Class Work\n",
    "\n",
    "Shivam is analyzing top 50 books sold on amazon. He is having data in the form of the CSV file ( books.csv ). It contains the following columns:\n",
    "['Name', 'Author', 'UserRating', 'Reviews', 'Price', 'Year', 'Genre']\n",
    "\n",
    "Link of the dataset: books.csv\n",
    "\n",
    "He wants to analyze the data with the help of the seaborn library. Help him in doing the following things.\n",
    "\n",
    "He wants to compare:\n",
    "Prices of fictional and non-fictional books. ( Use boxplot )\n",
    "Reviews of fictional and non-fictional books. ( Use boxplot )\n"
   ]
  },
  {
   "attachments": {},
   "cell_type": "markdown",
   "metadata": {},
   "source": [
    "# HW\n",
    "\n",
    "Compare :\n",
    "User rating of fictional and non-fictional books. ( Use boxplot )\n",
    "\n"
   ]
  },
  {
   "cell_type": "code",
   "execution_count": null,
   "metadata": {},
   "outputs": [],
   "source": []
  }
 ],
 "metadata": {
  "language_info": {
   "name": "python"
  },
  "orig_nbformat": 4
 },
 "nbformat": 4,
 "nbformat_minor": 2
}
