{
 "cells": [
  {
   "cell_type": "code",
   "execution_count": 49,
   "metadata": {},
   "outputs": [],
   "source": [
    "# Saket is analyzing a book dataset that contains the following columns:\n",
    "# ['Name', 'Author', 'UserRating', 'Reviews', 'Price', 'Year', 'Genre']\n",
    "# Saket wants to find the following things:\n",
    "\n",
    "# Dataset: books.csv\n",
    "\n",
    "# Which type of book gets more sales? \n",
    "# Fiction \n",
    "# Non-fiction.\n",
    "\n",
    "# At what price range do the books get more sales.\n",
    "# Price is less than 10\n",
    "# Price is between 10 and 20\n",
    "# Price is greater than 20\n",
    "\n",
    "# Which book is usually more expensive?\n",
    "# Fiction\n",
    "# Non-fiction book\n",
    "\n",
    "# Which type of book gets more reviews?\n",
    "# Fiction\n",
    "# Non-fiction book\n",
    "\n",
    "# Which type of book gets better reviews as compared to another book?\n",
    "# Fiction\n",
    "# Non-fiction book\n",
    "\n",
    "# Who is the best author according to your analysis?\n"
   ]
  },
  {
   "cell_type": "code",
   "execution_count": 50,
   "metadata": {},
   "outputs": [],
   "source": [
    "import pandas as pd\n",
    "import numpy as np\n",
    "\n",
    "file=pd.read_excel(\"csv_Data/books(1).xlsx\")"
   ]
  },
  {
   "cell_type": "code",
   "execution_count": 51,
   "metadata": {},
   "outputs": [],
   "source": [
    "df=pd.DataFrame(file)"
   ]
  },
  {
   "cell_type": "code",
   "execution_count": 52,
   "metadata": {},
   "outputs": [
    {
     "data": {
      "text/plain": [
       "Genre\n",
       "Fiction        240\n",
       "Non Fiction    310\n",
       "Name: Genre, dtype: int64"
      ]
     },
     "execution_count": 52,
     "metadata": {},
     "output_type": "execute_result"
    }
   ],
   "source": [
    "df.groupby(\"Genre\")[\"Genre\"].count()"
   ]
  },
  {
   "cell_type": "code",
   "execution_count": 53,
   "metadata": {},
   "outputs": [],
   "source": [
    "# At what price range do the books get more sales.\n",
    "# Price is less than 10\n",
    "# Price is between 10 and 20\n",
    "# Price is greater than 20\n",
    "\n",
    "# df.groupby(\"Price\")[\"Price\"].count()\n",
    "\n",
    "# df.Price<10"
   ]
  },
  {
   "cell_type": "code",
   "execution_count": 69,
   "metadata": {},
   "outputs": [
    {
     "data": {
      "text/plain": [
       "False    312\n",
       "True     238\n",
       "Name: Price, dtype: int64"
      ]
     },
     "execution_count": 69,
     "metadata": {},
     "output_type": "execute_result"
    }
   ],
   "source": [
    "(df.Price<10).value_counts()"
   ]
  },
  {
   "cell_type": "code",
   "execution_count": 66,
   "metadata": {},
   "outputs": [
    {
     "name": "stderr",
     "output_type": "stream",
     "text": [
      "C:\\Users\\Dell\\AppData\\Local\\Temp\\ipykernel_35920\\1042017610.py:1: FutureWarning: Boolean inputs to the `inclusive` argument are deprecated in favour of `both` or `neither`.\n",
      "  df.Price.between(10,20,inclusive=True).value_counts()\n"
     ]
    },
    {
     "data": {
      "text/plain": [
       "False    306\n",
       "True     244\n",
       "Name: Price, dtype: int64"
      ]
     },
     "execution_count": 66,
     "metadata": {},
     "output_type": "execute_result"
    }
   ],
   "source": [
    "df.Price.between(10,20,inclusive=True).value_counts()"
   ]
  },
  {
   "cell_type": "code",
   "execution_count": 70,
   "metadata": {},
   "outputs": [
    {
     "data": {
      "text/plain": [
       "False    482\n",
       "True      68\n",
       "Name: Price, dtype: int64"
      ]
     },
     "execution_count": 70,
     "metadata": {},
     "output_type": "execute_result"
    }
   ],
   "source": [
    "(df.Price>20).value_counts()"
   ]
  },
  {
   "cell_type": "code",
   "execution_count": null,
   "metadata": {},
   "outputs": [],
   "source": []
  }
 ],
 "metadata": {
  "kernelspec": {
   "display_name": "Python 3",
   "language": "python",
   "name": "python3"
  },
  "language_info": {
   "codemirror_mode": {
    "name": "ipython",
    "version": 3
   },
   "file_extension": ".py",
   "mimetype": "text/x-python",
   "name": "python",
   "nbconvert_exporter": "python",
   "pygments_lexer": "ipython3",
   "version": "3.11.0"
  },
  "orig_nbformat": 4,
  "vscode": {
   "interpreter": {
    "hash": "c261aea317cc0286b3b3261fbba9abdec21eaa57589985bb7a274bf54d6cc0a7"
   }
  }
 },
 "nbformat": 4,
 "nbformat_minor": 2
}
