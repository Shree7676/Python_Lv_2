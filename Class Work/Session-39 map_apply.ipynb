{
 "cells": [
  {
   "cell_type": "code",
   "execution_count": 1,
   "metadata": {},
   "outputs": [],
   "source": [
    "dic={\n",
    "    \"name\":[\"a\",\"b\",\"c\"],\n",
    "    \"age\":[1,2,3]\n",
    "}"
   ]
  },
  {
   "cell_type": "code",
   "execution_count": 2,
   "metadata": {},
   "outputs": [],
   "source": [
    "import pandas as pd"
   ]
  },
  {
   "cell_type": "code",
   "execution_count": 3,
   "metadata": {},
   "outputs": [],
   "source": [
    "a=pd.DataFrame(dic)"
   ]
  },
  {
   "cell_type": "code",
   "execution_count": 5,
   "metadata": {},
   "outputs": [
    {
     "data": {
      "text/plain": [
       "0      one\n",
       "1      two\n",
       "2    three\n",
       "Name: age, dtype: object"
      ]
     },
     "execution_count": 5,
     "metadata": {},
     "output_type": "execute_result"
    }
   ],
   "source": [
    "def fnc(value):\n",
    "    if value==1:\n",
    "        return \"one\"\n",
    "    elif value==2:\n",
    "        return \"two\"\n",
    "    else:\n",
    "        return \"three\"\n",
    "\n",
    "a.age.map(fnc)"
   ]
  },
  {
   "cell_type": "code",
   "execution_count": 7,
   "metadata": {},
   "outputs": [
    {
     "data": {
      "text/plain": [
       "0     one\n",
       "1     two\n",
       "2    thee\n",
       "Name: age, dtype: object"
      ]
     },
     "execution_count": 7,
     "metadata": {},
     "output_type": "execute_result"
    }
   ],
   "source": [
    "d={1:\"one\",\n",
    "   2:\"two\",\n",
    "   3:\"thee\"}\n",
    "\n",
    "a.age.map(d)"
   ]
  },
  {
   "cell_type": "code",
   "execution_count": null,
   "metadata": {},
   "outputs": [],
   "source": [
    "import pandas as pd \n",
    "\n",
    "data = pd.DataFrame({\"power_level\": [12000, 16000, 4000, 1500, 3000, \n",
    "                                     2000, 1600, 2000],\n",
    "                     \"uniform color\": [\"orange\", \"blue\", \"black\", \"orange\",\n",
    "                                       \"purple\", \"green\", \"orange\", \"orange\"],\n",
    "                     \"species\": [\"saiyan\",\"saiyan\",\"saiyan\",\"half saiyan\",\n",
    "                                 \"namak\",\"human\",\"human\",\"human\"]}, \n",
    "                     index = [\"Goku\",\"Vegeta\", \"Nappa\",\"Gohan\",\n",
    "                                   \"Piccolo\",\"Tien\",\"Yamcha\", \"Krillin\"])\n",
    "\n",
    "data\n",
    "\n",
    "# Apply a function to ALL elements in a Data Frame\n",
    "\n",
    "def str_len(x):\n",
    "    return(len(str(x)))\n",
    "\n",
    "d2 = data.applymap(str_len)\n",
    "d2 \n",
    "\n",
    "# If all data is numeric, math operations are broadcast elementwise by default!\n",
    "\n",
    "d2 ** 2\n"
   ]
  }
 ],
 "metadata": {
  "kernelspec": {
   "display_name": "Python 3",
   "language": "python",
   "name": "python3"
  },
  "language_info": {
   "codemirror_mode": {
    "name": "ipython",
    "version": 3
   },
   "file_extension": ".py",
   "mimetype": "text/x-python",
   "name": "python",
   "nbconvert_exporter": "python",
   "pygments_lexer": "ipython3",
   "version": "3.11.0"
  },
  "orig_nbformat": 4,
  "vscode": {
   "interpreter": {
    "hash": "c261aea317cc0286b3b3261fbba9abdec21eaa57589985bb7a274bf54d6cc0a7"
   }
  }
 },
 "nbformat": 4,
 "nbformat_minor": 2
}
