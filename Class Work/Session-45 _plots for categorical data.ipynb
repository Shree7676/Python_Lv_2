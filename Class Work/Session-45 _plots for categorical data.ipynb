{
 "cells": [
  {
   "attachments": {},
   "cell_type": "markdown",
   "metadata": {},
   "source": [
    "# CW\n",
    "Link of the dataset: books.csv\n",
    "\n",
    "Shivam is analyzing top 50 books sold on amazon. He is having data in the form of the CSV file ( books.csv ). It contains the following columns:\n",
    "['Name', 'Author', 'UserRating', 'Reviews', 'Price', 'Year', 'Genre']\n",
    "\n",
    "He wants to analyze the data with the help of the seaborn library. Help him in doing the following things.\n",
    "\n",
    "Number of reviews from year 2009 to 2019 for both fictional and non fictional books\n",
    "\n",
    "\n",
    "Number of user ratings from the year 2009 to 2019 for both fictional and non fictional books.\n",
    "\n"
   ]
  },
  {
   "cell_type": "markdown",
   "metadata": {},
   "source": [
    "# HW\n",
    "Help him in doing the following things.\n",
    "User rating each year for non fictional books.\n",
    "Number of fictional and non fictional books.\n"
   ]
  }
 ],
 "metadata": {
  "language_info": {
   "name": "python"
  },
  "orig_nbformat": 4
 },
 "nbformat": 4,
 "nbformat_minor": 2
}
