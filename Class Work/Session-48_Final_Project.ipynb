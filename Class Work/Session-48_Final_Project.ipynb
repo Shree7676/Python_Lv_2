{
 "cells": [
  {
   "cell_type": "code",
   "execution_count": 1,
   "metadata": {},
   "outputs": [],
   "source": [
    "# Link for dataset : forbes.csv\n",
    "# Analyse the given data set and find out the following :\n",
    "\n",
    "# Total athlete earning value in year : \n",
    "# 2019\n",
    "# 2018\n",
    "# 2020\n",
    "\n",
    "# Sports with highest earning value\n",
    "\n",
    "# Athlete with highest earning value.\n",
    "\n",
    "# Give 3 conclusion other than these after analysing the dataset.\n"
   ]
  },
  {
   "cell_type": "code",
   "execution_count": null,
   "metadata": {},
   "outputs": [],
   "source": []
  }
 ],
 "metadata": {
  "kernelspec": {
   "display_name": "Python 3",
   "language": "python",
   "name": "python3"
  },
  "language_info": {
   "codemirror_mode": {
    "name": "ipython",
    "version": 3
   },
   "file_extension": ".py",
   "mimetype": "text/x-python",
   "name": "python",
   "nbconvert_exporter": "python",
   "pygments_lexer": "ipython3",
   "version": "3.11.0"
  },
  "orig_nbformat": 4
 },
 "nbformat": 4,
 "nbformat_minor": 2
}
