{
 "cells": [
  {
   "cell_type": "code",
   "execution_count": 1,
   "metadata": {},
   "outputs": [],
   "source": [
    "# First dataset: auto-mpg1\n",
    "# Second dataset: auto-mpg2\n",
    "\n",
    "# Rahul is analyzing different vehicles with the help of a dataset. The dataset contains 6 following columns:\n",
    "# mpg\t\n",
    "# cylinders\t\n",
    "# displacement\t\n",
    "# horsepower\t\n",
    "# weight\t\n",
    "# acceleration\t\n",
    "\n",
    "# Rahul was searching for more information and he suddenly found one more dataset with the same columns and different rows. He thought to combine them together so that he can get more data to analyze. Help Rahul to combine two data frames.\n",
    "# Second dataset: auto-mpg2\n"
   ]
  },
  {
   "cell_type": "code",
   "execution_count": null,
   "metadata": {},
   "outputs": [],
   "source": []
  },
  {
   "cell_type": "code",
   "execution_count": null,
   "metadata": {},
   "outputs": [],
   "source": []
  },
  {
   "cell_type": "code",
   "execution_count": null,
   "metadata": {},
   "outputs": [],
   "source": []
  },
  {
   "cell_type": "code",
   "execution_count": null,
   "metadata": {},
   "outputs": [],
   "source": []
  },
  {
   "cell_type": "code",
   "execution_count": null,
   "metadata": {},
   "outputs": [],
   "source": []
  },
  {
   "cell_type": "code",
   "execution_count": null,
   "metadata": {},
   "outputs": [],
   "source": []
  },
  {
   "cell_type": "code",
   "execution_count": 2,
   "metadata": {},
   "outputs": [],
   "source": [
    "# Rahul got one more dataset that contains some more information about the same vehicle. He thought to combine this with the data frame he has created. \n",
    "# This new data frame contains the following columns:\n",
    "# model year\t\n",
    "# origin\t\n",
    "# car name\n",
    "# Combine this data with the existing data frame.\n",
    "# Third dataset: auto-mpg3\n",
    "\n",
    "# After more research, he got some information and now he wants to add it to the data frame. Create a data frame with the help of a dictionary and list and then combine it with the main data frame. \n"
   ]
  },
  {
   "cell_type": "code",
   "execution_count": null,
   "metadata": {},
   "outputs": [],
   "source": []
  },
  {
   "cell_type": "code",
   "execution_count": null,
   "metadata": {},
   "outputs": [],
   "source": []
  },
  {
   "cell_type": "code",
   "execution_count": null,
   "metadata": {},
   "outputs": [],
   "source": []
  },
  {
   "cell_type": "code",
   "execution_count": null,
   "metadata": {},
   "outputs": [],
   "source": []
  }
 ],
 "metadata": {
  "kernelspec": {
   "display_name": "Python 3",
   "language": "python",
   "name": "python3"
  },
  "language_info": {
   "codemirror_mode": {
    "name": "ipython",
    "version": 3
   },
   "file_extension": ".py",
   "mimetype": "text/x-python",
   "name": "python",
   "nbconvert_exporter": "python",
   "pygments_lexer": "ipython3",
   "version": "3.11.0"
  },
  "orig_nbformat": 4,
  "vscode": {
   "interpreter": {
    "hash": "c261aea317cc0286b3b3261fbba9abdec21eaa57589985bb7a274bf54d6cc0a7"
   }
  }
 },
 "nbformat": 4,
 "nbformat_minor": 2
}
