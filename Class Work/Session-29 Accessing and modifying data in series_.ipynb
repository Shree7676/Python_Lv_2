{
 "cells": [
  {
   "attachments": {},
   "cell_type": "markdown",
   "id": "dbdf55b3",
   "metadata": {},
   "source": [
    "#CLASS WORK"
   ]
  },
  {
   "attachments": {},
   "cell_type": "markdown",
   "id": "755a9c48",
   "metadata": {},
   "source": [
    "\"\"\"\n",
    "To get a better understanding of the authors. Shivam thought to extract the rating of different books published by various authors. Write a program to get the rating of a book based on a given author's name.\n",
    "Atul Gawande\n",
    "Phil Robertson\n",
    "Dan Brown\n",
    "John Green\n",
    "\"\"\""
   ]
  },
  {
   "cell_type": "code",
   "execution_count": null,
   "id": "921076c1",
   "metadata": {},
   "outputs": [],
   "source": []
  },
  {
   "attachments": {},
   "cell_type": "markdown",
   "id": "07d0bb07",
   "metadata": {},
   "source": [
    "\"\"\"Find the rating of the following books:\n",
    "Allegiant\n",
    "Born to Run\n",
    "Fifty Shades Darker\n",
    "\"\"\""
   ]
  },
  {
   "cell_type": "code",
   "execution_count": null,
   "id": "3cbcef43",
   "metadata": {},
   "outputs": [],
   "source": []
  },
  {
   "attachments": {},
   "cell_type": "markdown",
   "id": "eaa67d83",
   "metadata": {},
   "source": [
    "\"\"\"Shivam wants to get the names of the book where rating is above 4.7. Write a program to print the name of all those books where rating is greater than 4.7.\"\"\""
   ]
  },
  {
   "cell_type": "code",
   "execution_count": null,
   "id": "fe666f5a",
   "metadata": {},
   "outputs": [],
   "source": []
  },
  {
   "attachments": {},
   "cell_type": "markdown",
   "id": "e2559c2d",
   "metadata": {},
   "source": [
    "#HOME WORK\n"
   ]
  },
  {
   "attachments": {},
   "cell_type": "markdown",
   "id": "e9c8650c",
   "metadata": {},
   "source": [
    "Shivam and his friend Sahil started an online book store site. They have a dataset of the top 50 books sold on amazon and they want to select the best books from there. After hours of discussion, they decided to pick the books with the following conditions.\n",
    "Rating is greater than 4.7 and price is less than 20.\n",
    "Rating is greater than 4.8 and reviews greater than 10000.\n",
    "Author: EL James and rating greater than 4.2\n",
    "Published after 2017, more than 4.5 ratings, more than 10000 reviews, Genre: Fiction and price less than 30.\n"
   ]
  },
  {
   "cell_type": "markdown",
   "id": "1c853da9",
   "metadata": {},
   "source": []
  }
 ],
 "metadata": {
  "kernelspec": {
   "display_name": "Python 3",
   "language": "python",
   "name": "python3"
  },
  "language_info": {
   "codemirror_mode": {
    "name": "ipython",
    "version": 3
   },
   "file_extension": ".py",
   "mimetype": "text/x-python",
   "name": "python",
   "nbconvert_exporter": "python",
   "pygments_lexer": "ipython3",
   "version": "3.10.5"
  },
  "vscode": {
   "interpreter": {
    "hash": "369f2c481f4da34e4445cda3fffd2e751bd1c4d706f27375911949ba6bb62e1c"
   }
  }
 },
 "nbformat": 4,
 "nbformat_minor": 5
}
