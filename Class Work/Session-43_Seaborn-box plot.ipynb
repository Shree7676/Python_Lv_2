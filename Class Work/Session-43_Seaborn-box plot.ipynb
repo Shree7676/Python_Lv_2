{
 "cells": [
  {
   "attachments": {},
   "cell_type": "markdown",
   "metadata": {},
   "source": [
    "# Class Work\n",
    "\n",
    "Rahul is analyzing different vehicles with the help of a dataset. The dataset contains 9 following columns:\n",
    "mpg\t\n",
    "cylinders\t\n",
    "displacement\t\n",
    "horsepower\t\n",
    "weight\t\n",
    "acceleration\t\n",
    "model year\t\n",
    "origin\t\n",
    "car name\n",
    "\n",
    "Link of the dataset: auto-mpg\n",
    "\n",
    "Help Rahul in analyzing the following things:\n",
    "\n",
    "He wants to know the values of acceleration based on the number of cylinders in the vehicle. To help Rahul, use stripplot to show the graph.\n",
    "\n",
    "He wants to know the values of mpg based on cylinders. / How many cylinders give the best mileage to the vehicle. \n",
    "\n"
   ]
  },
  {
   "attachments": {},
   "cell_type": "markdown",
   "metadata": {},
   "source": [
    "# Home Work\n",
    "\n",
    "\n",
    "Use swarmplot as well for the above two questions so that Rahul can analyze the data in a better way.\n",
    "\n",
    "Mpg - cylinder \n",
    "Acceleration - cylinder\n"
   ]
  },
  {
   "cell_type": "code",
   "execution_count": 1,
   "metadata": {},
   "outputs": [],
   "source": [
    "import pandas as pd\n",
    "import seaborn as sns  \n",
    "import numpy as np\n"
   ]
  },
  {
   "cell_type": "code",
   "execution_count": null,
   "metadata": {},
   "outputs": [],
   "source": [
    "pd"
   ]
  },
  {
   "cell_type": "code",
   "execution_count": null,
   "metadata": {},
   "outputs": [],
   "source": [
    "# Box Plots\n",
    "# Before we proceed with box plots, we need to understand certain statistics terms\n",
    "\n",
    "# The statistics are as follows:\n",
    "\n",
    "# min : this is the minimum value in that column\n",
    "# 25%( also called the 1st quartile): is the value below which there is 25% of data\n",
    "# 50% (also called the median): is the value below which there is 50% of data\n",
    "# 75%( also called the 3rd quartile): is the value below which there is 75% of data\n",
    "# max :this is the maximum value in that column\n",
    "# IQR (Inter Quartile Range) : is the range between the 1st and 3rd quartile\n",
    "\n",
    "sns.boxplot(x=auto['drive-wheels'], y=auto['highway-mpg'])\n"
   ]
  },
  {
   "cell_type": "code",
   "execution_count": null,
   "metadata": {},
   "outputs": [],
   "source": [
    "# This kind of plot shows the three quartile values of the distribution along with extreme values.\n",
    "# The “whiskers” extend to points that lie within 1.5 IQRs of the lower and upper quartile.\n",
    "# The observations that fall outside this range are displayed independently. These observations are called outliers.\n",
    "\n",
    "sns.boxplot(x=auto['drive-wheels'], y=auto['highway-mpg'], hue=auto['fuel-type'])\n",
    "\n",
    "# using a hue parameter will split the plots for each of the values in the hue column\n",
    "\n",
    "# The box plot is a great plot to visualize where 50% of your data lies.\n",
    "# It also tells us if we have unusually large or small values in the data (outliers)\n",
    "\n",
    "\n"
   ]
  }
 ],
 "metadata": {
  "kernelspec": {
   "display_name": "Python 3",
   "language": "python",
   "name": "python3"
  },
  "language_info": {
   "codemirror_mode": {
    "name": "ipython",
    "version": 3
   },
   "file_extension": ".py",
   "mimetype": "text/x-python",
   "name": "python",
   "nbconvert_exporter": "python",
   "pygments_lexer": "ipython3",
   "version": "3.11.0"
  },
  "orig_nbformat": 4
 },
 "nbformat": 4,
 "nbformat_minor": 2
}
