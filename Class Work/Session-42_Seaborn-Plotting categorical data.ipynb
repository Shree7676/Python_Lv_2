{
 "cells": [
  {
   "attachments": {},
   "cell_type": "markdown",
   "metadata": {},
   "source": [
    "# Class Work\n",
    "\n",
    "Varun wants to understand the pair plot. To help him use the pair plot on the tips dataset and show the relationship between the entire numerical values of the tips dataset. \n",
    "Note: tips dataset is one of the example datasets built into the seaborn package.\n",
    "It can be easily loaded using the seaborn load_dataset command.\n",
    "\n",
    "\n",
    "Now Varun wants to know the relationship between all the numerical values with regards to sex given in the tips dataset. Create a graph for the same. ( Use green color for male and blue color for female )\n"
   ]
  },
  {
   "attachments": {},
   "cell_type": "markdown",
   "metadata": {},
   "source": [
    "# Home Work\n",
    "\n",
    "Rahul was analyzing different vehicles with the help of a dataset. Now he wants to plot the relationship between entire numerical values in the dataset. Help Rahul in doing so. ( Hint: Use pair plot )\n",
    "Link of the dataset: auto-mpg\n",
    " "
   ]
  },
  {
   "attachments": {},
   "cell_type": "markdown",
   "metadata": {},
   "source": [
    "# Redo - Categorical Data"
   ]
  },
  {
   "cell_type": "code",
   "execution_count": 3,
   "metadata": {},
   "outputs": [
    {
     "ename": "TypeError",
     "evalue": "stripplot() takes from 0 to 1 positional arguments but 2 positional arguments (and 1 keyword-only argument) were given",
     "output_type": "error",
     "traceback": [
      "\u001b[1;31m---------------------------------------------------------------------------\u001b[0m",
      "\u001b[1;31mTypeError\u001b[0m                                 Traceback (most recent call last)",
      "Cell \u001b[1;32mIn[3], line 10\u001b[0m\n\u001b[0;32m      5\u001b[0m auto \u001b[39m=\u001b[39m pd\u001b[39m.\u001b[39mDataFrame(np\u001b[39m.\u001b[39mrandom\u001b[39m.\u001b[39mrandn(\u001b[39m50\u001b[39m,\u001b[39m5\u001b[39m))     \u001b[39m#creating a dummy data frame\u001b[39;00m\n\u001b[0;32m      8\u001b[0m \u001b[39m# In a strip plot, the scatterplot points will usually overlap if jitter = false. This makes it difficult to see the full distribution of data. One easy solution is to adjust the positions (only along the categorical axis) using “jitter\"\u001b[39;00m\n\u001b[1;32m---> 10\u001b[0m sns\u001b[39m.\u001b[39;49mstripplot(auto[\u001b[39m1\u001b[39;49m], auto[\u001b[39m2\u001b[39;49m], jitter\u001b[39m=\u001b[39;49m\u001b[39mTrue\u001b[39;49;00m)\n",
      "\u001b[1;31mTypeError\u001b[0m: stripplot() takes from 0 to 1 positional arguments but 2 positional arguments (and 1 keyword-only argument) were given"
     ]
    }
   ],
   "source": [
    "import pandas as pd\n",
    "import seaborn as sns \n",
    "import numpy as np\n",
    "sns.set(color_codes=True) # adds a nice background to the graphs\n",
    "auto = pd.DataFrame(np.random.randn(50,5))     #creating a dummy data frame\n",
    "\n",
    "\n",
    "# In a strip plot, the scatterplot points will usually overlap if jitter = false. This makes it difficult to see the full distribution of data. One easy solution is to adjust the positions (only along the categorical axis) using “jitter\"\n",
    "\n",
    "sns.stripplot(auto[1], auto[2], jitter=True)\n"
   ]
  },
  {
   "cell_type": "code",
   "execution_count": 2,
   "metadata": {},
   "outputs": [
    {
     "data": {
      "text/plain": [
       "<Axes: xlabel='1', ylabel='2'>"
      ]
     },
     "execution_count": 2,
     "metadata": {},
     "output_type": "execute_result"
    },
    {
     "data": {
      "image/png": "[encoded data removed]",
      "text/plain": [
       "<Figure size 640x480 with 1 Axes>"
      ]
     },
     "metadata": {},
     "output_type": "display_data"
    }
   ],
   "source": [
    "\n",
    "# A different approach would be to use the function swarmplot(), which positions each scatterplot point on the categorical axis and avoids overlapping points:\n",
    "\n",
    "sns.swarmplot(x=auto[1], y=auto[2],size=4)\n",
    "\n",
    "# Both these plots help us visualize where the data is most concerntrated at\n"
   ]
  },
  {
   "cell_type": "code",
   "execution_count": null,
   "metadata": {},
   "outputs": [],
   "source": []
  }
 ],
 "metadata": {
  "kernelspec": {
   "display_name": "Python 3",
   "language": "python",
   "name": "python3"
  },
  "language_info": {
   "codemirror_mode": {
    "name": "ipython",
    "version": 3
   },
   "file_extension": ".py",
   "mimetype": "text/x-python",
   "name": "python",
   "nbconvert_exporter": "python",
   "pygments_lexer": "ipython3",
   "version": "3.11.0"
  },
  "orig_nbformat": 4
 },
 "nbformat": 4,
 "nbformat_minor": 2
}
